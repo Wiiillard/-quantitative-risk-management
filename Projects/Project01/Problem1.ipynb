{
 "cells": [
  {
   "cell_type": "markdown",
   "id": "48490a5b-c70f-431e-b33e-20bac9034e18",
   "metadata": {},
   "source": [
    "## Problem 1\n",
    "Given the dataset in problem1.csv\n",
    "- A. Calculate the Mean, Variance, Skewness and Kurtosis of the data\n",
    "- B. Given a choice between a Normal Distribution and a T-Distribution, which one would you\n",
    "choose to model the data? Why?\n",
    "- C. Fit both distributions and prove or disprove your choice in B using methods presented in\n",
    "class."
   ]
  },
  {
   "cell_type": "code",
   "execution_count": 1,
   "id": "73b70100-1ce8-4210-8d05-6f5d07147a10",
   "metadata": {},
   "outputs": [],
   "source": [
    "import pandas as pd\n",
    "import numpy as np\n",
    "from scipy.stats import norm, t, kurtosis, skew"
   ]
  },
  {
   "cell_type": "code",
   "execution_count": 2,
   "id": "b469ca8e-2546-4b24-a433-3ab9edcf6104",
   "metadata": {},
   "outputs": [
    {
     "data": {
      "text/html": [
       "<div>\n",
       "<style scoped>\n",
       "    .dataframe tbody tr th:only-of-type {\n",
       "        vertical-align: middle;\n",
       "    }\n",
       "\n",
       "    .dataframe tbody tr th {\n",
       "        vertical-align: top;\n",
       "    }\n",
       "\n",
       "    .dataframe thead th {\n",
       "        text-align: right;\n",
       "    }\n",
       "</style>\n",
       "<table border=\"1\" class=\"dataframe\">\n",
       "  <thead>\n",
       "    <tr style=\"text-align: right;\">\n",
       "      <th></th>\n",
       "      <th>X</th>\n",
       "    </tr>\n",
       "  </thead>\n",
       "  <tbody>\n",
       "    <tr>\n",
       "      <th>0</th>\n",
       "      <td>-0.118037</td>\n",
       "    </tr>\n",
       "    <tr>\n",
       "      <th>1</th>\n",
       "      <td>0.149343</td>\n",
       "    </tr>\n",
       "    <tr>\n",
       "      <th>2</th>\n",
       "      <td>-0.083849</td>\n",
       "    </tr>\n",
       "    <tr>\n",
       "      <th>3</th>\n",
       "      <td>-0.025407</td>\n",
       "    </tr>\n",
       "    <tr>\n",
       "      <th>4</th>\n",
       "      <td>0.119084</td>\n",
       "    </tr>\n",
       "  </tbody>\n",
       "</table>\n",
       "</div>"
      ],
      "text/plain": [
       "          X\n",
       "0 -0.118037\n",
       "1  0.149343\n",
       "2 -0.083849\n",
       "3 -0.025407\n",
       "4  0.119084"
      ]
     },
     "execution_count": 2,
     "metadata": {},
     "output_type": "execute_result"
    }
   ],
   "source": [
    "# Read data\n",
    "data = pd.read_csv(\"problem1.csv\")\n",
    "data.head()"
   ]
  },
  {
   "cell_type": "code",
   "execution_count": 3,
   "id": "ffc494a7-4dc2-4b88-99b9-3d80453144b5",
   "metadata": {},
   "outputs": [],
   "source": [
    "# Make sure no null value\n",
    "data_values = data['X'].dropna()  "
   ]
  },
  {
   "cell_type": "code",
   "execution_count": 4,
   "id": "4256094f-4353-4c8e-96ce-e18e5f0e4bae",
   "metadata": {},
   "outputs": [
    {
     "name": "stdout",
     "output_type": "stream",
     "text": [
      "Mean: 0.05019795790476916\n",
      "Variance: 0.010322143931072109\n",
      "Skewness: 0.1204447119194402\n",
      "Kurtosis: 0.2229270674503816\n"
     ]
    }
   ],
   "source": [
    "# Calculate statistics\n",
    "mean_value = np.mean(data_values)\n",
    "variance_value = np.var(data_values)\n",
    "skewness_value = skew(data_values)\n",
    "kurtosis_value = kurtosis(data_values)\n",
    "\n",
    "# Output results\n",
    "print(f\"Mean: {mean_value}\")\n",
    "print(f\"Variance: {variance_value}\")\n",
    "print(f\"Skewness: {skewness_value}\")\n",
    "print(f\"Kurtosis: {kurtosis_value}\")"
   ]
  },
  {
   "cell_type": "markdown",
   "id": "7a76cf6a-d855-4876-9c6d-3fe259dad6d4",
   "metadata": {},
   "source": [
    "If the data has strong symmetry, skewness is close to 0, and kurtosis is close to 3, it is more likely to be normal distribution.\n",
    "If the data is tail-heavy (kurtosis greater than 3) or has high skewness, the T distribution is better suited."
   ]
  },
  {
   "cell_type": "code",
   "execution_count": 5,
   "id": "9a524d92-d12e-4f25-8433-6801ffccf130",
   "metadata": {},
   "outputs": [
    {
     "name": "stdout",
     "output_type": "stream",
     "text": [
      "The data is more inclined to T distribution.\n"
     ]
    }
   ],
   "source": [
    "# Choose the model\n",
    "if abs(skewness_value) < 0.5 and abs(kurtosis_value - 3) < 1:\n",
    "    print(\"The data tends to be more normally distributed.\")\n",
    "else:\n",
    "    print(\"The data is more inclined to T distribution.\")"
   ]
  },
  {
   "cell_type": "code",
   "execution_count": 6,
   "id": "6d6588ba-954b-47e0-a562-622db1521767",
   "metadata": {},
   "outputs": [
    {
     "name": "stdout",
     "output_type": "stream",
     "text": [
      "T-Distribution Parameters: df=28.71016692613074, Mean=0.04986675416872735, Scale=0.09800128766123102\n"
     ]
    }
   ],
   "source": [
    "t_params = t.fit(data_values)\n",
    "print(f\"T-Distribution Parameters: df={t_params[0]}, Mean={t_params[1]}, Scale={t_params[2]}\")"
   ]
  },
  {
   "cell_type": "code",
   "execution_count": 7,
   "id": "1cd1d435-3c74-4061-9a5e-363290c7bc56",
   "metadata": {},
   "outputs": [
    {
     "name": "stdout",
     "output_type": "stream",
     "text": [
      "AIC for Normal Distribution: -1731.586728836508\n",
      "AIC for T-Distribution: -1731.4183689195443\n",
      "BIC for Normal Distribution: -1721.7712182785438\n",
      "BIC for T-Distribution: -1716.6951030825978\n"
     ]
    }
   ],
   "source": [
    "from scipy.stats import norm, t\n",
    "\n",
    "# Normal distribution fitting parameters\n",
    "norm_params = norm.fit(data_values)\n",
    "# Log-likelihood of normal distribution\n",
    "log_likelihood_norm = np.sum(norm.logpdf(data_values, *norm_params))\n",
    "# Normally distributed AIC\n",
    "aic_norm = 2 * 2 - 2 * log_likelihood_norm  # Number of parameters k = 2\n",
    "bic_norm = 2 * np.log(len(data_values)) - 2 * log_likelihood_norm # Number of parameters k = 2\n",
    "\n",
    "# T distribution fitting parameters\n",
    "t_params = t.fit(data_values)\n",
    "# Log-likelihood of T distribution\n",
    "log_likelihood_t = np.sum(t.logpdf(data_values, *t_params))\n",
    "# AIC of T distribution\n",
    "aic_t = 2 * 3 - 2 * log_likelihood_t  # Number of parameters k = 3\n",
    "bic_t = 3 * np.log(len(data_values)) - 2 * log_likelihood_t  # Number of parameters k = 3\n",
    "\n",
    "# Output results\n",
    "print(f\"AIC for Normal Distribution: {aic_norm}\")\n",
    "print(f\"AIC for T-Distribution: {aic_t}\")\n",
    "print(f\"BIC for Normal Distribution: {bic_norm}\")\n",
    "print(f\"BIC for T-Distribution: {bic_t}\")"
   ]
  },
  {
   "cell_type": "markdown",
   "id": "d5230b58-b9fe-4149-8247-fb759281c886",
   "metadata": {},
   "source": [
    "Based on the initial assessment criteria—**symmetry, skewness close to 0, and kurtosis close to 3**—we initially suspected that a **T-distribution** might be a better fit due to potential heavy tails or high skewness. However, after evaluating both models using **AIC (Akaike Information Criterion) and BIC (Bayesian Information Criterion)**, the results suggest that the **Normal distribution provides a better fit** for the data.  \n",
    "\n",
    "- **AIC for Normal Distribution:** **-1731.59**  \n",
    "- **AIC for T-Distribution:** **-1731.42**\n",
    "The lower AIC value for the **Normal distribution** suggests it fits the data slightly better in terms of likelihood while balancing model complexity.\n",
    "\n",
    "- **BIC for Normal Distribution:** **-1721.77**  \n",
    "- **BIC for T-Distribution:** **-1716.70**\n",
    "And **The Normal distribution has a lower BIC value**, indicating that when penalizing for model complexity, it is preferred over the **T-distribution**. Since BIC strongly discourages overfitting, this further reinforces that the Normal distribution is a better choice.  \n",
    "\n",
    "Even though the initial moment-based analysis suggested a T-distribution due to tail heaviness or skewness, **the AIC and BIC metrics objectively indicate that the Normal distribution fits the data better**. Therefore, based on **both likelihood-based model selection and penalization for complexity**, the **Normal distribution should be chosen** as the best fit for this dataset."
   ]
  }
 ],
 "metadata": {
  "kernelspec": {
   "display_name": "Python 3 (ipykernel)",
   "language": "python",
   "name": "python3"
  },
  "language_info": {
   "codemirror_mode": {
    "name": "ipython",
    "version": 3
   },
   "file_extension": ".py",
   "mimetype": "text/x-python",
   "name": "python",
   "nbconvert_exporter": "python",
   "pygments_lexer": "ipython3",
   "version": "3.12.4"
  }
 },
 "nbformat": 4,
 "nbformat_minor": 5
}

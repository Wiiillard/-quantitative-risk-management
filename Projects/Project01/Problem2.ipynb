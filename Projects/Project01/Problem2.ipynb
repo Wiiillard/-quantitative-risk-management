{
 "cells": [
  {
   "cell_type": "markdown",
   "id": "3962d533-b20e-444c-947d-2132166be9e9",
   "metadata": {},
   "source": [
    "## Problem 2\n",
    "\n",
    "Given the data in problem2.csv\n",
    "- A. Calculate the pairwise covariance matrix of the data.\n",
    "- B. Is the Matrix at least positive semi-definite? Why?\n",
    "- C. If not, find the nearest positive semi-definite matrix using Higham’s method and the\n",
    "near-psd method of Rebenato and Jackel.\n",
    "- D. Calculate the covariance matrix using only overlapping data.\n",
    "- E. Compare the results of the covariance matrices in C and D. Explain the differences.\n",
    "Note: the generating process is a covariance matrix with 1 on the diagonals and 0.99\n",
    "elsewhere."
   ]
  },
  {
   "cell_type": "code",
   "execution_count": 1,
   "id": "0ed5a449-7729-4b57-b3df-51eec80446c9",
   "metadata": {},
   "outputs": [
    {
     "name": "stdout",
     "output_type": "stream",
     "text": [
      "<class 'pandas.core.frame.DataFrame'>\n",
      "RangeIndex: 50 entries, 0 to 49\n",
      "Data columns (total 5 columns):\n",
      " #   Column  Non-Null Count  Dtype  \n",
      "---  ------  --------------  -----  \n",
      " 0   x1      37 non-null     float64\n",
      " 1   x2      39 non-null     float64\n",
      " 2   x3      35 non-null     float64\n",
      " 3   x4      35 non-null     float64\n",
      " 4   x5      37 non-null     float64\n",
      "dtypes: float64(5)\n",
      "memory usage: 2.1 KB\n",
      "None\n"
     ]
    }
   ],
   "source": [
    "import pandas as pd\n",
    "import numpy as np\n",
    "\n",
    "# Read data\n",
    "data = pd.read_csv(\"problem2.csv\")\n",
    "# View basic information about data\n",
    "print(data.info())\n",
    "# Remove missing values\n",
    "# clean_data = data.dropna()"
   ]
  },
  {
   "cell_type": "code",
   "execution_count": 2,
   "id": "e65298d8-01bc-4553-a485-8c067cc8deb2",
   "metadata": {},
   "outputs": [
    {
     "data": {
      "text/html": [
       "<div>\n",
       "<style scoped>\n",
       "    .dataframe tbody tr th:only-of-type {\n",
       "        vertical-align: middle;\n",
       "    }\n",
       "\n",
       "    .dataframe tbody tr th {\n",
       "        vertical-align: top;\n",
       "    }\n",
       "\n",
       "    .dataframe thead th {\n",
       "        text-align: right;\n",
       "    }\n",
       "</style>\n",
       "<table border=\"1\" class=\"dataframe\">\n",
       "  <thead>\n",
       "    <tr style=\"text-align: right;\">\n",
       "      <th></th>\n",
       "      <th>x1</th>\n",
       "      <th>x2</th>\n",
       "      <th>x3</th>\n",
       "      <th>x4</th>\n",
       "      <th>x5</th>\n",
       "    </tr>\n",
       "  </thead>\n",
       "  <tbody>\n",
       "    <tr>\n",
       "      <th>0</th>\n",
       "      <td>0.378172</td>\n",
       "      <td>0.508313</td>\n",
       "      <td>NaN</td>\n",
       "      <td>0.610538</td>\n",
       "      <td>NaN</td>\n",
       "    </tr>\n",
       "    <tr>\n",
       "      <th>1</th>\n",
       "      <td>0.858478</td>\n",
       "      <td>0.758142</td>\n",
       "      <td>NaN</td>\n",
       "      <td>NaN</td>\n",
       "      <td>NaN</td>\n",
       "    </tr>\n",
       "    <tr>\n",
       "      <th>2</th>\n",
       "      <td>-0.218954</td>\n",
       "      <td>-0.015334</td>\n",
       "      <td>-0.261880</td>\n",
       "      <td>NaN</td>\n",
       "      <td>-0.230148</td>\n",
       "    </tr>\n",
       "    <tr>\n",
       "      <th>3</th>\n",
       "      <td>-0.370442</td>\n",
       "      <td>-0.424702</td>\n",
       "      <td>-0.535312</td>\n",
       "      <td>NaN</td>\n",
       "      <td>-0.226233</td>\n",
       "    </tr>\n",
       "    <tr>\n",
       "      <th>4</th>\n",
       "      <td>0.717732</td>\n",
       "      <td>0.664195</td>\n",
       "      <td>NaN</td>\n",
       "      <td>NaN</td>\n",
       "      <td>0.914107</td>\n",
       "    </tr>\n",
       "  </tbody>\n",
       "</table>\n",
       "</div>"
      ],
      "text/plain": [
       "         x1        x2        x3        x4        x5\n",
       "0  0.378172  0.508313       NaN  0.610538       NaN\n",
       "1  0.858478  0.758142       NaN       NaN       NaN\n",
       "2 -0.218954 -0.015334 -0.261880       NaN -0.230148\n",
       "3 -0.370442 -0.424702 -0.535312       NaN -0.226233\n",
       "4  0.717732  0.664195       NaN       NaN  0.914107"
      ]
     },
     "execution_count": 2,
     "metadata": {},
     "output_type": "execute_result"
    }
   ],
   "source": [
    "data.head()"
   ]
  },
  {
   "cell_type": "code",
   "execution_count": 3,
   "id": "ab16314c-0762-4618-b2ba-205b7ba1e3ef",
   "metadata": {},
   "outputs": [
    {
     "name": "stdout",
     "output_type": "stream",
     "text": [
      "Covariance matrix based on pairwise variables:\n",
      "          x1        x2        x3        x4        x5\n",
      "x1  1.470484  1.454214  0.877269  1.903226  1.444361\n",
      "x2  1.454214  1.252078  0.539548  1.621918  1.237877\n",
      "x3  0.877269  0.539548  1.272425  1.171959  1.091912\n",
      "x4  1.903226  1.621918  1.171959  1.814469  1.589729\n",
      "x5  1.444361  1.237877  1.091912  1.589729  1.396186\n"
     ]
    }
   ],
   "source": [
    "# Automatically handle Pairwise covariance using pandas\n",
    "pairwise_cov_matrix = data.cov()\n",
    "print(\"Covariance matrix based on pairwise variables:\")\n",
    "print(pairwise_cov_matrix)"
   ]
  },
  {
   "cell_type": "code",
   "execution_count": 4,
   "id": "5483b4d6-48b9-4fee-a644-caa6449debb5",
   "metadata": {},
   "outputs": [
    {
     "name": "stdout",
     "output_type": "stream",
     "text": [
      "Eigenvalues of the covariance matrix:\n",
      "[ 6.78670573  0.83443367 -0.31024286  0.02797828 -0.13323183]\n",
      "Is the covariance matrix positive semidefinite?: False\n"
     ]
    }
   ],
   "source": [
    "# Check for positive semi-determinism\n",
    "eigenvalues = np.linalg.eigvals(pairwise_cov_matrix)\n",
    "print(\"Eigenvalues of the covariance matrix:\")\n",
    "print(eigenvalues)\n",
    "\n",
    "# Judgm is positive and semi-determined\n",
    "is_positive_semi_definite = np.all(eigenvalues >= 0)\n",
    "print(f\"Is the covariance matrix positive semidefinite?: {is_positive_semi_definite}\")"
   ]
  },
  {
   "cell_type": "code",
   "execution_count": 5,
   "id": "0c58bed6-3364-449c-b063-653de54bd489",
   "metadata": {},
   "outputs": [
    {
     "name": "stdout",
     "output_type": "stream",
     "text": [
      "Higham adjusted PSD covariance matrix:\n",
      "[[1.47048437 1.33367702 0.89435261 1.62845754 1.40155153]\n",
      " [1.33367702 1.25207795 0.63522726 1.45526619 1.22052732]\n",
      " [0.89435261 0.63522726 1.272425   1.08023227 1.06208209]\n",
      " [1.62845754 1.45526619 1.08023227 1.81446921 1.57796266]\n",
      " [1.40155153 1.22052732 1.06208209 1.57796266 1.39618646]]\n"
     ]
    }
   ],
   "source": [
    "import cvxpy as cp\n",
    "\n",
    "def higham_nearest_psd(matrix, max_iter=100, tol=1e-6):\n",
    "    \"\"\"Higham's method computes the nearest positive semidefinite matrix\"\"\"\n",
    "    n = matrix.shape[0]\n",
    "    X = np.copy(matrix)\n",
    "    Y = np.copy(matrix)\n",
    "    delta_S = np.zeros_like(matrix)\n",
    "    \n",
    "    for _ in range(max_iter):\n",
    "        # Calculate symmetrical parts\n",
    "        R = Y - delta_S\n",
    "        X_new = project_to_psd(R)\n",
    "        delta_S = X_new - R\n",
    "        Y = project_to_diagonal(X_new, matrix)\n",
    "        \n",
    "        # Determine convergence\n",
    "        if np.linalg.norm(X - X_new, 'fro') < tol:\n",
    "            break\n",
    "        X = X_new\n",
    "        \n",
    "    return X\n",
    "\n",
    "def project_to_psd(matrix):\n",
    "    \"\"\"Project to PSD matrix\"\"\"\n",
    "    eigvals, eigvecs = np.linalg.eigh(matrix)\n",
    "    eigvals[eigvals < 0] = 0  # Negative eigenvalues are set to zero\n",
    "    return eigvecs @ np.diag(eigvals) @ eigvecs.T\n",
    "\n",
    "def project_to_diagonal(matrix, original):\n",
    "    \"\"\"Keep diagonal elements unchanged\"\"\"\n",
    "    np.fill_diagonal(matrix, np.diag(original))\n",
    "    return matrix\n",
    "\n",
    "# Call the Higham method\n",
    "adjusted_higham = higham_nearest_psd(pairwise_cov_matrix)\n",
    "print(\"Higham adjusted PSD covariance matrix:\")\n",
    "print(adjusted_higham)"
   ]
  },
  {
   "cell_type": "code",
   "execution_count": 6,
   "id": "3665b9e1-1732-4ca0-ba0e-660031cb98a4",
   "metadata": {},
   "outputs": [
    {
     "name": "stdout",
     "output_type": "stream",
     "text": [
      "Rebonato & Jackel adjusted PSD covariance matrix:\n",
      "[[1.         1.45421424 0.87726904 1.90322645 1.44436105]\n",
      " [1.45421424 1.         0.53954816 1.62191837 1.23787697]\n",
      " [0.87726904 0.53954816 1.         1.17195897 1.091912  ]\n",
      " [1.90322645 1.62191837 1.17195897 1.         1.58972858]\n",
      " [1.44436105 1.23787697 1.091912   1.58972858 1.        ]]\n"
     ]
    }
   ],
   "source": [
    "def rebonato_jackel_nearest_psd(matrix):\n",
    "    \"\"\"Rebonato & Jackel How to calculate the nearest PSD matrix\"\"\"\n",
    "    U, S, Vt = np.linalg.svd(matrix)\n",
    "    S[S < 0] = 0  # Negative singular values are set to zero\n",
    "    adjusted_matrix = U @ np.diag(S) @ Vt\n",
    "    np.fill_diagonal(adjusted_matrix, 1)  # Keep the diagonal at 1\n",
    "    return adjusted_matrix\n",
    "\n",
    "# Call the Rebonato & Jackel method\n",
    "adjusted_rj = rebonato_jackel_nearest_psd(pairwise_cov_matrix)\n",
    "print(\"Rebonato & Jackel adjusted PSD covariance matrix:\")\n",
    "print(adjusted_rj)"
   ]
  },
  {
   "cell_type": "code",
   "execution_count": 7,
   "id": "87231190-5627-4849-b8e9-59cf2382663f",
   "metadata": {},
   "outputs": [
    {
     "name": "stdout",
     "output_type": "stream",
     "text": [
      "Covariance matrix based on overlapping data:\n",
      "          x1        x2        x3        x4        x5\n",
      "x1  0.418604  0.394054  0.424457  0.416382  0.434287\n",
      "x2  0.394054  0.396786  0.409343  0.398401  0.422631\n",
      "x3  0.424457  0.409343  0.441360  0.428441  0.448957\n",
      "x4  0.416382  0.398401  0.428441  0.437274  0.440167\n",
      "x5  0.434287  0.422631  0.448957  0.440167  0.466272\n"
     ]
    }
   ],
   "source": [
    "# Filter overlapping data (rows with no missing values)\n",
    "overlap_data = data.dropna()\n",
    "overlap_cov_matrix = overlap_data.cov()\n",
    "print(\"Covariance matrix based on overlapping data:\")\n",
    "print(overlap_cov_matrix)"
   ]
  },
  {
   "cell_type": "code",
   "execution_count": 8,
   "id": "2c77db7e-f942-407d-9b3c-0c4fb0c96d24",
   "metadata": {
    "jp-MarkdownHeadingCollapsed": true
   },
   "outputs": [
    {
     "name": "stdout",
     "output_type": "stream",
     "text": [
      "Higham vs Overlap Covariance Matrix: 4.484061725086761\n",
      "Rebonato & Jackel vs Overlap Covariance Matrix: 4.434851539196421\n",
      "Higham vs Rebonato & Jackel Covariance Matrix: 1.2070966654837034\n"
     ]
    }
   ],
   "source": [
    "# Calculate the difference in Frobenius norm\n",
    "higham_vs_overlap = np.linalg.norm(adjusted_higham - overlap_cov_matrix, 'fro')\n",
    "rj_vs_overlap = np.linalg.norm(adjusted_rj - overlap_cov_matrix, 'fro')\n",
    "higham_vs_rj = np.linalg.norm(adjusted_higham - adjusted_rj, 'fro')\n",
    "\n",
    "print(f\"Higham vs Overlap Covariance Matrix: {higham_vs_overlap}\")\n",
    "print(f\"Rebonato & Jackel vs Overlap Covariance Matrix: {rj_vs_overlap}\")\n",
    "print(f\"Higham vs Rebonato & Jackel Covariance Matrix: {higham_vs_rj}\")"
   ]
  },
  {
   "cell_type": "markdown",
   "id": "deb29e61-ec70-46d0-bfae-4e1020c7e74e",
   "metadata": {},
   "source": [
    "- The difference between Higham and Overlap (4.484) is slightly larger than the difference between Rebonato & Jackel and Overlap (4.435): this indicates that the adjusted matrix of the Rebonato & Jackel method is closer to the covariance matrix calculated by Overlap. The possible reason is that the Rebonato & Jackel method corrects the PSD through SVD and is more inclined to maintain the numerical structure of the original matrix, while the Higham method is based on iterative optimization, which may lead to larger numerical changes.\n",
    "- The difference between Higham's method and Rebonato & Jackel's method (1.207) is much smaller than their difference with Overlap: indicating that the matrices produced by these two PSD correction methods are relatively close, although they differ in correction strategies."
   ]
  },
  {
   "cell_type": "code",
   "execution_count": 9,
   "id": "69894797-d1df-4f44-bbbd-55eed690807e",
   "metadata": {},
   "outputs": [
    {
     "data": {
      "image/png": "[encoded data removed]",
      "text/plain": [
       "<Figure size 1000x600 with 1 Axes>"
      ]
     },
     "metadata": {},
     "output_type": "display_data"
    }
   ],
   "source": [
    "import matplotlib.pyplot as plt\n",
    "\n",
    "# Calculate the eigenvalues of three matrices\n",
    "eigen_higham = np.linalg.eigvals(adjusted_higham)\n",
    "eigen_rj = np.linalg.eigvals(adjusted_rj)\n",
    "eigen_overlap = np.linalg.eigvals(overlap_cov_matrix)\n",
    "\n",
    "# Plot eigenvalue distribution\n",
    "plt.figure(figsize=(10, 6))\n",
    "plt.hist(eigen_higham, bins=30, alpha=0.5, label=\"Higham\")\n",
    "plt.hist(eigen_rj, bins=30, alpha=0.5, label=\"Rebonato & Jackel\")\n",
    "plt.hist(eigen_overlap, bins=30, alpha=0.5, label=\"Overlap Covariance\")\n",
    "plt.legend()\n",
    "plt.xlabel(\"Eigenvalue\")\n",
    "plt.ylabel(\"Frequency\")\n",
    "plt.title(\"Comparison of Eigenvalue Distributions\")\n",
    "plt.show()"
   ]
  },
  {
   "cell_type": "markdown",
   "id": "8b2bc2a6-78a1-4746-8f1b-9c105019d4b8",
   "metadata": {},
   "source": [
    "- Higham method: The negative eigenvalues are close to 0 (the order of magnitude is $10^{-7}$), indicating that the Higham method has successfully corrected the negative eigenvalues to make them close to positive semidefinite. The maximum eigenvalue (6.4848) is slightly larger than the maximum eigenvalue (6.2960) of Rebonato & Jackel, indicating that the Higham method may cause the spectral radius of the matrix to increase and affect the numerical stability.\n",
    "- Rebonato & Jackel method: There are still significant negative eigenvalues (-0.9718, -0.4859, -0.3913). This shows that the Rebonato & Jackel method fails to completely remove negative eigenvalues, even though it is closer in Frobenius error to the covariance matrix calculated by Overlap.\n",
    "- Overlap method: All eigenvalues are positive, indicating that this matrix is positive definite. However, the maximum eigenvalue (2.1208) is much smaller than the maximum eigenvalue (6.4 and 6.3) of the Higham and Rebonato & Jackel methods, indicating that the covariance matrix calculated by the Overlap method has smaller variance explanation ability, which may be related to the way missing data is handled."
   ]
  },
  {
   "cell_type": "code",
   "execution_count": 10,
   "id": "cdf641a5-ff24-4e31-a551-94e2674a34b1",
   "metadata": {},
   "outputs": [
    {
     "name": "stdout",
     "output_type": "stream",
     "text": [
      "Condition Number (Higham): 8699459.77399493\n",
      "Condition Number (Rebonato & Jackel): 16.088077147094193\n",
      "Condition Number (Overlap): 509.9633017531094\n"
     ]
    }
   ],
   "source": [
    "# Calculate the condition number of a matrix\n",
    "cond_higham = np.linalg.cond(adjusted_higham)\n",
    "cond_rj = np.linalg.cond(adjusted_rj)\n",
    "cond_overlap = np.linalg.cond(overlap_cov_matrix)\n",
    "\n",
    "print(f\"Condition Number (Higham): {cond_higham}\")\n",
    "print(f\"Condition Number (Rebonato & Jackel): {cond_rj}\")\n",
    "print(f\"Condition Number (Overlap): {cond_overlap}\")"
   ]
  },
  {
   "cell_type": "markdown",
   "id": "49a90fa2-6857-4984-996d-f32bab22da42",
   "metadata": {},
   "source": [
    "- The condition number of Higham's method is extremely large (8699459.77): the condition number is the ratio of the largest and smallest eigenvalues of the matrix: $cond(A)=\\frac{𝜆_{max}}{⁡𝜆_{min}}⁡$. Although Higham's method removes negative eigenvalues, it may overcorrect the PSD properties, resulting in a very small (but still positive) minimum eigenvalue, thereby greatly increasing the condition number. Such a high condition number means that the matrix value is unstable, which may lead to amplification of calculation errors.\n",
    "- The Rebonato & Jackel method has a smaller condition number (16.08): This method does not strictly adjust the PSD, but only removes negative eigenvalues through SVD, but still retains a certain number of large negative eigenvalues. Since there are no extreme small eigenvalues, the condition number of the Rebonato & Jackel method is much lower than that of the Higham method, showing better numerical stability.\n",
    "- The condition number calculated by Overlap is moderate (509.96): Although the Overlap method is calculated directly based on the data, its eigenvalues are smaller and the condition number is much smaller (more stable) than the Higham method.\n",
    "But compared to the Rebonato & Jackel method, it is still larger, possibly due to the uneven distribution of feature values due to missing data."
   ]
  },
  {
   "cell_type": "code",
   "execution_count": 11,
   "id": "acc3c02f-c49a-4b96-b83a-5571fa217c62",
   "metadata": {},
   "outputs": [
    {
     "data": {
      "image/png": "[encoded data removed]",
      "text/plain": [
       "<Figure size 1000x600 with 1 Axes>"
      ]
     },
     "metadata": {},
     "output_type": "display_data"
    }
   ],
   "source": [
    "import matplotlib.pyplot as plt\n",
    "\n",
    "# Calculate the eigenvalues of three matrices\n",
    "eigen_higham = np.linalg.eigvals(adjusted_higham)\n",
    "eigen_rj = np.linalg.eigvals(adjusted_rj)\n",
    "eigen_overlap = np.linalg.eigvals(overlap_cov_matrix)\n",
    "\n",
    "# Plot eigenvalue distribution\n",
    "plt.figure(figsize=(10, 6))\n",
    "plt.hist(eigen_higham, bins=30, alpha=0.5, label=\"Higham\")\n",
    "plt.hist(eigen_rj, bins=30, alpha=0.5, label=\"Rebonato & Jackel\")\n",
    "plt.hist(eigen_overlap, bins=30, alpha=0.5, label=\"Overlap Covariance\")\n",
    "plt.legend()\n",
    "plt.xlabel(\"Eigenvalue\")\n",
    "plt.ylabel(\"Frequency\")\n",
    "plt.title(\"Comparison of Eigenvalue Distributions\")\n",
    "plt.show()"
   ]
  },
  {
   "cell_type": "code",
   "execution_count": 12,
   "id": "83172ebc-644a-4907-8b00-a3214848e167",
   "metadata": {},
   "outputs": [
    {
     "data": {
      "text/plain": [
       "array([ 6.48478357e+00,  7.20862351e-01, -7.45423708e-07, -1.14163760e-06,\n",
       "       -1.04386991e-06])"
      ]
     },
     "execution_count": 12,
     "metadata": {},
     "output_type": "execute_result"
    }
   ],
   "source": [
    "eigen_higham"
   ]
  },
  {
   "cell_type": "code",
   "execution_count": 13,
   "id": "a42e50f9-2221-4dd6-a067-d2892e96024f",
   "metadata": {},
   "outputs": [
    {
     "data": {
      "text/plain": [
       "array([ 6.29603063,  0.55311472, -0.97183577, -0.48596196, -0.39134762])"
      ]
     },
     "execution_count": 13,
     "metadata": {},
     "output_type": "execute_result"
    }
   ],
   "source": [
    "eigen_rj"
   ]
  },
  {
   "cell_type": "code",
   "execution_count": 14,
   "id": "7c6f001d-f8be-4a25-a5a7-2f2d05348b1f",
   "metadata": {},
   "outputs": [
    {
     "data": {
      "text/plain": [
       "array([2.12083697, 0.01897221, 0.01112963, 0.00519785, 0.0041588 ])"
      ]
     },
     "execution_count": 14,
     "metadata": {},
     "output_type": "execute_result"
    }
   ],
   "source": [
    "eigen_overlap"
   ]
  }
 ],
 "metadata": {
  "kernelspec": {
   "display_name": "Python 3 (ipykernel)",
   "language": "python",
   "name": "python3"
  },
  "language_info": {
   "codemirror_mode": {
    "name": "ipython",
    "version": 3
   },
   "file_extension": ".py",
   "mimetype": "text/x-python",
   "name": "python",
   "nbconvert_exporter": "python",
   "pygments_lexer": "ipython3",
   "version": "3.12.4"
  }
 },
 "nbformat": 4,
 "nbformat_minor": 5
}
